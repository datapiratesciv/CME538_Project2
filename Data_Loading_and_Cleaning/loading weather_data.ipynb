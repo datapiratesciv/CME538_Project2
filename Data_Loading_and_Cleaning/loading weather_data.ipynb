{
 "cells": [
  {
   "cell_type": "code",
   "execution_count": 1,
   "metadata": {
    "executionInfo": {
     "elapsed": 1277,
     "status": "ok",
     "timestamp": 1670086694694,
     "user": {
      "displayName": "Ray Coden Mercurius",
      "userId": "17162744304693628162"
     },
     "user_tz": 300
    },
    "id": "9ilihRCF5oK2"
   },
   "outputs": [],
   "source": [
    "# Import 3rd party libraries\n",
    "import os\n",
    "import pandas as pd\n",
    "import seaborn as sns\n",
    "import matplotlib.pylab as plt\n",
    "\n",
    "# Configure Notebook\n",
    "%matplotlib inline\n",
    "plt.style.use('fivethirtyeight')\n",
    "sns.set_context(\"notebook\")\n",
    "import warnings\n",
    "warnings.filterwarnings('ignore')"
   ]
  },
  {
   "cell_type": "markdown",
   "metadata": {},
   "source": [
    "# 1. Weather Data"
   ]
  },
  {
   "cell_type": "code",
   "execution_count": 2,
   "metadata": {},
   "outputs": [],
   "source": [
    "original_path = os.getcwd()"
   ]
  },
  {
   "cell_type": "code",
   "execution_count": 3,
   "metadata": {},
   "outputs": [
    {
     "name": "stdout",
     "output_type": "stream",
     "text": [
      "['en_climate_hourly_ON_6158359_01-2017_P1H.csv', 'en_climate_hourly_ON_6158359_01-2018_P1H.csv', 'en_climate_hourly_ON_6158359_01-2019_P1H.csv', 'en_climate_hourly_ON_6158359_01-2020_P1H.csv', 'en_climate_hourly_ON_6158359_01-2021_P1H.csv']\n"
     ]
    }
   ],
   "source": [
    "# Set weather data path\n",
    "path_weather = os.path.join(os.path.abspath(original_path), 'data', 'weather')\n",
    "\n",
    "# Get weather file names\n",
    "weather_filenames = [filename for filename in os.listdir(path_weather) if 'climate' in filename]\n",
    "\n",
    "# Print file names\n",
    "print(weather_filenames[0:5])"
   ]
  },
  {
   "cell_type": "code",
   "execution_count": 4,
   "metadata": {},
   "outputs": [],
   "source": [
    "os.chdir(path_weather)\n",
    "\n",
    "# Merging all weather files and creating a data frame\n",
    "df = pd.DataFrame()\n",
    "for i in range(len(weather_filenames)):\n",
    "    x_df = pd.read_csv(weather_filenames[i])\n",
    "    if (x_df.columns[8]=='Time (LST)'):\n",
    "        x_df.rename(columns = {'Time (LST)':'Time'}, inplace=True)\n",
    "    if (x_df.columns[4]=='Date/Time (LST)'):\n",
    "        x_df.rename(columns = {'Date/Time (LST)':'Date/Time'}, inplace=True)\n",
    "    df= pd.concat([x_df,df],ignore_index=True)\n",
    "weather_data = df\n",
    "os.chdir(original_path)"
   ]
  },
  {
   "cell_type": "code",
   "execution_count": 5,
   "metadata": {},
   "outputs": [
    {
     "data": {
      "text/plain": [
       "Index(['Longitude (x)', 'Latitude (y)', 'Station Name', 'Climate ID',\n",
       "       'Date/Time', 'Year', 'Month', 'Day', 'Time', 'Temp (°C)', 'Temp Flag',\n",
       "       'Dew Point Temp (°C)', 'Dew Point Temp Flag', 'Rel Hum (%)',\n",
       "       'Rel Hum Flag', 'Precip. Amount (mm)', 'Precip. Amount Flag',\n",
       "       'Wind Dir (10s deg)', 'Wind Dir Flag', 'Wind Spd (km/h)',\n",
       "       'Wind Spd Flag', 'Visibility (km)', 'Visibility Flag',\n",
       "       'Stn Press (kPa)', 'Stn Press Flag', 'Hmdx', 'Hmdx Flag', 'Wind Chill',\n",
       "       'Wind Chill Flag', 'Weather'],\n",
       "      dtype='object')"
      ]
     },
     "execution_count": 5,
     "metadata": {},
     "output_type": "execute_result"
    }
   ],
   "source": [
    "weather_data.columns"
   ]
  },
  {
   "cell_type": "code",
   "execution_count": 6,
   "metadata": {
    "scrolled": true
   },
   "outputs": [
    {
     "data": {
      "text/plain": [
       "34.1"
      ]
     },
     "execution_count": 6,
     "metadata": {},
     "output_type": "execute_result"
    }
   ],
   "source": [
    "weather_data['Temp (°C)'].max()"
   ]
  },
  {
   "cell_type": "code",
   "execution_count": 7,
   "metadata": {},
   "outputs": [
    {
     "data": {
      "text/plain": [
       "-21.9"
      ]
     },
     "execution_count": 7,
     "metadata": {},
     "output_type": "execute_result"
    }
   ],
   "source": [
    "weather_data['Temp (°C)'].min()"
   ]
  },
  {
   "cell_type": "code",
   "execution_count": 8,
   "metadata": {
    "scrolled": false
   },
   "outputs": [
    {
     "data": {
      "text/plain": [
       "2020    8784\n",
       "2021    8760\n",
       "2019    8760\n",
       "2018    8760\n",
       "2017    8760\n",
       "2022    7296\n",
       "Name: Year, dtype: int64"
      ]
     },
     "execution_count": 8,
     "metadata": {},
     "output_type": "execute_result"
    }
   ],
   "source": [
    "weather_data['Year'].value_counts()"
   ]
  },
  {
   "cell_type": "code",
   "execution_count": 9,
   "metadata": {},
   "outputs": [
    {
     "data": {
      "text/plain": [
       "0"
      ]
     },
     "execution_count": 9,
     "metadata": {},
     "output_type": "execute_result"
    }
   ],
   "source": [
    "weather_data['Date/Time'].isnull().sum()"
   ]
  },
  {
   "cell_type": "code",
   "execution_count": 10,
   "metadata": {},
   "outputs": [],
   "source": [
    "weather_data['Date/Time'] = pd.DatetimeIndex(weather_data['Date/Time'] ).tz_localize('EST')"
   ]
  },
  {
   "cell_type": "code",
   "execution_count": 11,
   "metadata": {},
   "outputs": [
    {
     "data": {
      "text/html": [
       "<div>\n",
       "<style scoped>\n",
       "    .dataframe tbody tr th:only-of-type {\n",
       "        vertical-align: middle;\n",
       "    }\n",
       "\n",
       "    .dataframe tbody tr th {\n",
       "        vertical-align: top;\n",
       "    }\n",
       "\n",
       "    .dataframe thead th {\n",
       "        text-align: right;\n",
       "    }\n",
       "</style>\n",
       "<table border=\"1\" class=\"dataframe\">\n",
       "  <thead>\n",
       "    <tr style=\"text-align: right;\">\n",
       "      <th></th>\n",
       "      <th>Longitude (x)</th>\n",
       "      <th>Latitude (y)</th>\n",
       "      <th>Station Name</th>\n",
       "      <th>Climate ID</th>\n",
       "      <th>Date/Time</th>\n",
       "      <th>Year</th>\n",
       "      <th>Month</th>\n",
       "      <th>Day</th>\n",
       "      <th>Time</th>\n",
       "      <th>Temp (°C)</th>\n",
       "      <th>...</th>\n",
       "      <th>Wind Spd Flag</th>\n",
       "      <th>Visibility (km)</th>\n",
       "      <th>Visibility Flag</th>\n",
       "      <th>Stn Press (kPa)</th>\n",
       "      <th>Stn Press Flag</th>\n",
       "      <th>Hmdx</th>\n",
       "      <th>Hmdx Flag</th>\n",
       "      <th>Wind Chill</th>\n",
       "      <th>Wind Chill Flag</th>\n",
       "      <th>Weather</th>\n",
       "    </tr>\n",
       "  </thead>\n",
       "  <tbody>\n",
       "    <tr>\n",
       "      <th>0</th>\n",
       "      <td>-79.4</td>\n",
       "      <td>43.63</td>\n",
       "      <td>TORONTO CITY CENTRE</td>\n",
       "      <td>6158359</td>\n",
       "      <td>2021-12-01 00:00:00-05:00</td>\n",
       "      <td>2021</td>\n",
       "      <td>12</td>\n",
       "      <td>1</td>\n",
       "      <td>00:00</td>\n",
       "      <td>3.5</td>\n",
       "      <td>...</td>\n",
       "      <td>NaN</td>\n",
       "      <td>16.1</td>\n",
       "      <td>NaN</td>\n",
       "      <td>100.41</td>\n",
       "      <td>NaN</td>\n",
       "      <td>NaN</td>\n",
       "      <td>NaN</td>\n",
       "      <td>NaN</td>\n",
       "      <td>NaN</td>\n",
       "      <td>NaN</td>\n",
       "    </tr>\n",
       "    <tr>\n",
       "      <th>1</th>\n",
       "      <td>-79.4</td>\n",
       "      <td>43.63</td>\n",
       "      <td>TORONTO CITY CENTRE</td>\n",
       "      <td>6158359</td>\n",
       "      <td>2021-12-01 01:00:00-05:00</td>\n",
       "      <td>2021</td>\n",
       "      <td>12</td>\n",
       "      <td>1</td>\n",
       "      <td>01:00</td>\n",
       "      <td>3.5</td>\n",
       "      <td>...</td>\n",
       "      <td>NaN</td>\n",
       "      <td>16.1</td>\n",
       "      <td>NaN</td>\n",
       "      <td>100.50</td>\n",
       "      <td>NaN</td>\n",
       "      <td>NaN</td>\n",
       "      <td>NaN</td>\n",
       "      <td>NaN</td>\n",
       "      <td>NaN</td>\n",
       "      <td>NaN</td>\n",
       "    </tr>\n",
       "    <tr>\n",
       "      <th>2</th>\n",
       "      <td>-79.4</td>\n",
       "      <td>43.63</td>\n",
       "      <td>TORONTO CITY CENTRE</td>\n",
       "      <td>6158359</td>\n",
       "      <td>2021-12-01 02:00:00-05:00</td>\n",
       "      <td>2021</td>\n",
       "      <td>12</td>\n",
       "      <td>1</td>\n",
       "      <td>02:00</td>\n",
       "      <td>3.5</td>\n",
       "      <td>...</td>\n",
       "      <td>NaN</td>\n",
       "      <td>16.1</td>\n",
       "      <td>NaN</td>\n",
       "      <td>100.58</td>\n",
       "      <td>NaN</td>\n",
       "      <td>NaN</td>\n",
       "      <td>NaN</td>\n",
       "      <td>NaN</td>\n",
       "      <td>NaN</td>\n",
       "      <td>NaN</td>\n",
       "    </tr>\n",
       "    <tr>\n",
       "      <th>3</th>\n",
       "      <td>-79.4</td>\n",
       "      <td>43.63</td>\n",
       "      <td>TORONTO CITY CENTRE</td>\n",
       "      <td>6158359</td>\n",
       "      <td>2021-12-01 03:00:00-05:00</td>\n",
       "      <td>2021</td>\n",
       "      <td>12</td>\n",
       "      <td>1</td>\n",
       "      <td>03:00</td>\n",
       "      <td>3.3</td>\n",
       "      <td>...</td>\n",
       "      <td>NaN</td>\n",
       "      <td>16.1</td>\n",
       "      <td>NaN</td>\n",
       "      <td>100.71</td>\n",
       "      <td>NaN</td>\n",
       "      <td>NaN</td>\n",
       "      <td>NaN</td>\n",
       "      <td>NaN</td>\n",
       "      <td>NaN</td>\n",
       "      <td>NaN</td>\n",
       "    </tr>\n",
       "    <tr>\n",
       "      <th>4</th>\n",
       "      <td>-79.4</td>\n",
       "      <td>43.63</td>\n",
       "      <td>TORONTO CITY CENTRE</td>\n",
       "      <td>6158359</td>\n",
       "      <td>2021-12-01 04:00:00-05:00</td>\n",
       "      <td>2021</td>\n",
       "      <td>12</td>\n",
       "      <td>1</td>\n",
       "      <td>04:00</td>\n",
       "      <td>2.7</td>\n",
       "      <td>...</td>\n",
       "      <td>NaN</td>\n",
       "      <td>16.1</td>\n",
       "      <td>NaN</td>\n",
       "      <td>100.73</td>\n",
       "      <td>NaN</td>\n",
       "      <td>NaN</td>\n",
       "      <td>NaN</td>\n",
       "      <td>NaN</td>\n",
       "      <td>NaN</td>\n",
       "      <td>NaN</td>\n",
       "    </tr>\n",
       "  </tbody>\n",
       "</table>\n",
       "<p>5 rows × 30 columns</p>\n",
       "</div>"
      ],
      "text/plain": [
       "   Longitude (x)  Latitude (y)         Station Name  Climate ID  \\\n",
       "0          -79.4         43.63  TORONTO CITY CENTRE     6158359   \n",
       "1          -79.4         43.63  TORONTO CITY CENTRE     6158359   \n",
       "2          -79.4         43.63  TORONTO CITY CENTRE     6158359   \n",
       "3          -79.4         43.63  TORONTO CITY CENTRE     6158359   \n",
       "4          -79.4         43.63  TORONTO CITY CENTRE     6158359   \n",
       "\n",
       "                  Date/Time  Year  Month  Day   Time  Temp (°C)  ...  \\\n",
       "0 2021-12-01 00:00:00-05:00  2021     12    1  00:00        3.5  ...   \n",
       "1 2021-12-01 01:00:00-05:00  2021     12    1  01:00        3.5  ...   \n",
       "2 2021-12-01 02:00:00-05:00  2021     12    1  02:00        3.5  ...   \n",
       "3 2021-12-01 03:00:00-05:00  2021     12    1  03:00        3.3  ...   \n",
       "4 2021-12-01 04:00:00-05:00  2021     12    1  04:00        2.7  ...   \n",
       "\n",
       "  Wind Spd Flag  Visibility (km) Visibility Flag  Stn Press (kPa)  \\\n",
       "0           NaN             16.1             NaN           100.41   \n",
       "1           NaN             16.1             NaN           100.50   \n",
       "2           NaN             16.1             NaN           100.58   \n",
       "3           NaN             16.1             NaN           100.71   \n",
       "4           NaN             16.1             NaN           100.73   \n",
       "\n",
       "  Stn Press Flag  Hmdx  Hmdx Flag  Wind Chill Wind Chill Flag  Weather  \n",
       "0            NaN   NaN        NaN         NaN             NaN      NaN  \n",
       "1            NaN   NaN        NaN         NaN             NaN      NaN  \n",
       "2            NaN   NaN        NaN         NaN             NaN      NaN  \n",
       "3            NaN   NaN        NaN         NaN             NaN      NaN  \n",
       "4            NaN   NaN        NaN         NaN             NaN      NaN  \n",
       "\n",
       "[5 rows x 30 columns]"
      ]
     },
     "execution_count": 11,
     "metadata": {},
     "output_type": "execute_result"
    }
   ],
   "source": [
    "weather_data.head()"
   ]
  },
  {
   "cell_type": "code",
   "execution_count": 12,
   "metadata": {
    "executionInfo": {
     "elapsed": 1181,
     "status": "ok",
     "timestamp": 1670086713883,
     "user": {
      "displayName": "Ray Coden Mercurius",
      "userId": "17162744304693628162"
     },
     "user_tz": 300
    },
    "id": "iy8w9BY2iZPR"
   },
   "outputs": [],
   "source": [
    "weather_data.to_csv('weather_data.csv',index=False)"
   ]
  }
 ],
 "metadata": {
  "colab": {
   "authorship_tag": "ABX9TyMyGI1IhfP7aWl9st1SEit7",
   "provenance": []
  },
  "kernelspec": {
   "display_name": "Python 3 (ipykernel)",
   "language": "python",
   "name": "python3"
  },
  "language_info": {
   "codemirror_mode": {
    "name": "ipython",
    "version": 3
   },
   "file_extension": ".py",
   "mimetype": "text/x-python",
   "name": "python",
   "nbconvert_exporter": "python",
   "pygments_lexer": "ipython3",
   "version": "3.9.12"
  }
 },
 "nbformat": 4,
 "nbformat_minor": 1
}
